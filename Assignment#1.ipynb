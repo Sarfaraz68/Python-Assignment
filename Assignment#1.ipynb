{
 "cells": [
  {
   "cell_type": "code",
   "execution_count": 24,
   "metadata": {},
   "outputs": [
    {
     "name": "stdout",
     "output_type": "stream",
     "text": [
      "Marks Sheet\n",
      "===========\n",
      "Marks obtainted out of 100\n",
      "Subject one marks.....56\n",
      "Subject two marks.....75\n",
      "Subject three marks...43\n",
      "Subject four marks....78\n",
      "Total Marks....... 252\n",
      "Percentage........ 63.0\n",
      "Grade.... D\n"
     ]
    }
   ],
   "source": [
    "print('Marks Sheet')\n",
    "print('===========')\n",
    "print('Marks obtainted out of 100')\n",
    "subject1 = int(input('Subject one marks.....'))\n",
    "subject2 = int(input('Subject two marks.....'))\n",
    "subject3 = int(input('Subject three marks...'))\n",
    "subject4 = int(input('Subject four marks....'))\n",
    "total_marks = subject1+subject2+subject3+subject4\n",
    "percentage=total_marks/4\n",
    "print('Total Marks.......',total_marks)\n",
    "print('Percentage........',percentage)\n",
    "if percentage >90 and percentage <=100:\n",
    "    grade='A'\n",
    "    print('Grade....',grade)\n",
    "elif percentage >80 and percentage <=90:\n",
    "    grade='B'\n",
    "    print('Grade....',grade)\n",
    "elif percentage >70 and percentage <=80:\n",
    "    grade='C'\n",
    "    print('Grade....',grade)\n",
    "elif percentage >60 and percentage <=70:\n",
    "    grade='D'\n",
    "    print('Grade....',grade)\n",
    "else:\n",
    "    print('F a i l')"
   ]
  },
  {
   "cell_type": "code",
   "execution_count": null,
   "metadata": {},
   "outputs": [],
   "source": []
  },
  {
   "cell_type": "code",
   "execution_count": null,
   "metadata": {},
   "outputs": [],
   "source": []
  }
 ],
 "metadata": {
  "kernelspec": {
   "display_name": "Python 3",
   "language": "python",
   "name": "python3"
  },
  "language_info": {
   "codemirror_mode": {
    "name": "ipython",
    "version": 3
   },
   "file_extension": ".py",
   "mimetype": "text/x-python",
   "name": "python",
   "nbconvert_exporter": "python",
   "pygments_lexer": "ipython3",
   "version": "3.7.4"
  }
 },
 "nbformat": 4,
 "nbformat_minor": 2
}
