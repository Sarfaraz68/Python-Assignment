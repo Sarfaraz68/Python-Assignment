{
 "cells": [
  {
   "cell_type": "code",
   "execution_count": 1,
   "metadata": {},
   "outputs": [
    {
     "name": "stdout",
     "output_type": "stream",
     "text": [
      "Calculator\n",
      "===========\n",
      "Enter First Number......... 3\n",
      "Enter Second Number.........4\n",
      "Enter +,-,/ or ^............^\n",
      "Rais to what power (e.g. 2,3,4 any integer number.............2\n",
      "3 raise to power  2 = 9\n",
      "4 raise to power  2 = 16\n"
     ]
    }
   ],
   "source": [
    "#===================================================Q1\n",
    "print('Calculator')\n",
    "print('===========')\n",
    "num1 = input('Enter First Number......... ')\n",
    "num2 = input('Enter Second Number.........')\n",
    "operator1 = input('Enter +,-,/ or ^............')\n",
    "if operator1 == '^':\n",
    "  power = input('Rais to what power (e.g. 2,3,4 any integer number.............')\n",
    "  result_power1 = pow(int(num1),int(power))\n",
    "  print(num1,'raise to power ',power,'=',result_power1)\n",
    "  result_power2 = pow(int(num2),int(power))\n",
    "  print(num2,'raise to power ',power,'=',result_power2)\n",
    "elif operator1 == '+':\n",
    "     result = int(num1) + int(num2)\n",
    "     print('Result of maths operation....',result)\n",
    "elif operator1 == '-':\n",
    "     result = int(num1) - int(num2)\n",
    "     print('Result of maths operation....',result)\n",
    "elif operator1 == '/':\n",
    "     result = int(num1) / int(num2)\n",
    "     print('Result of maths operation....',result)\n"
   ]
  },
  {
   "cell_type": "code",
   "execution_count": null,
   "metadata": {},
   "outputs": [],
   "source": []
  }
 ],
 "metadata": {
  "kernelspec": {
   "display_name": "Python 3",
   "language": "python",
   "name": "python3"
  },
  "language_info": {
   "codemirror_mode": {
    "name": "ipython",
    "version": 3
   },
   "file_extension": ".py",
   "mimetype": "text/x-python",
   "name": "python",
   "nbconvert_exporter": "python",
   "pygments_lexer": "ipython3",
   "version": "3.7.4"
  }
 },
 "nbformat": 4,
 "nbformat_minor": 2
}
