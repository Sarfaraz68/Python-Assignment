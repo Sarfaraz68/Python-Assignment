{
 "cells": [
  {
   "cell_type": "code",
   "execution_count": 46,
   "metadata": {},
   "outputs": [
    {
     "name": "stdout",
     "output_type": "stream",
     "text": [
      "First Name..... Asif\n",
      "Last Name...... Iqbal\n",
      "Age............ 35\n",
      "Resident of ... Karachi\n",
      "Qualificatin key added***********************\n",
      "Qualification...... B.A\n",
      "Qualificatin key updated***********************\n",
      "High Academic Level...... M.A.\n",
      "\n",
      "\n",
      "\n",
      "Qualificatin key deleted**********************\n",
      "Person information after erasing qualification key\n",
      "First Name..... Asif\n",
      "Last Name...... Iqbal\n",
      "Age............ 35\n",
      "Resident of ... Karachi\n"
     ]
    }
   ],
   "source": [
    "Person={\"First_Name\":\"Asif\",\"Last_Name\":\"Iqbal\",\"Age\":35,\"City\":\"Karachi\"}\n",
    "\n",
    "print(\"First Name.....\",Person[\"First_Name\"])\n",
    "print(\"Last Name......\",Person[\"Last_Name\"])\n",
    "print(\"Age............\",Person[\"Age\"])\n",
    "print(\"Resident of ...\",Person[\"City\"])\n",
    "\n",
    "print(\"Qualificatin key added***********************\")\n",
    "Person[\"Qualification\"]=\"B.A\"\n",
    "\n",
    "print(\"Qualification......\",Person[\"Qualification\"])\n",
    "print(\"Qualificatin key updated***********************\")\n",
    "Person[\"Qualification\"]=\"M.A.\"\n",
    "print(\"High Academic Level......\",Person[\"Qualification\"])\n",
    "\n",
    "del Person[\"Qualification\"]\n",
    "print(\"\")\n",
    "print(\"\")\n",
    "print(\"\")\n",
    "print(\"Qualificatin key deleted**********************\")\n",
    "print(\"Person information after erasing qualification key\")\n",
    "print(\"First Name.....\",Person[\"First_Name\"])\n",
    "print(\"Last Name......\",Person[\"Last_Name\"])\n",
    "print(\"Age............\",Person[\"Age\"])\n",
    "print(\"Resident of ...\",Person[\"City\"])"
   ]
  },
  {
   "cell_type": "code",
   "execution_count": null,
   "metadata": {},
   "outputs": [],
   "source": []
  },
  {
   "cell_type": "code",
   "execution_count": null,
   "metadata": {},
   "outputs": [],
   "source": []
  },
  {
   "cell_type": "code",
   "execution_count": null,
   "metadata": {},
   "outputs": [],
   "source": []
  }
 ],
 "metadata": {
  "kernelspec": {
   "display_name": "Python 3",
   "language": "python",
   "name": "python3"
  },
  "language_info": {
   "codemirror_mode": {
    "name": "ipython",
    "version": 3
   },
   "file_extension": ".py",
   "mimetype": "text/x-python",
   "name": "python",
   "nbconvert_exporter": "python",
   "pygments_lexer": "ipython3",
   "version": "3.7.4"
  }
 },
 "nbformat": 4,
 "nbformat_minor": 2
}
