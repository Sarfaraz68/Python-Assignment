{
 "cells": [
  {
   "cell_type": "code",
   "execution_count": 53,
   "metadata": {},
   "outputs": [
    {
     "name": "stdout",
     "output_type": "stream",
     "text": [
      "Enter a positive integer....6\n",
      "6! is ....720\n"
     ]
    }
   ],
   "source": [
    "# Assignment #5 Question - 1\n",
    "\n",
    "def factorial(any_positive_integer):\n",
    "    number=1\n",
    "    factornumber=1\n",
    "    while number < any_positive_integer:\n",
    "        number=number+1\n",
    "        factornumber = factornumber * number\n",
    "    print (\"{}! is ....{}\".format(any_positive_integer, factornumber))\n",
    "        \n",
    "\n",
    "while True:\n",
    "    try:\n",
    "        userinput = int(input(\"Enter a positive integer....\"))\n",
    "        if userinput <= 0:\n",
    "            print(\"Oops!  Not a valid number.  Try again...\")\n",
    "        else:    \n",
    "            break\n",
    "    except ValueError:\n",
    "        print(\"Oops!  Not a valid number.  Try again...\")  \n",
    "\n",
    "   \n",
    "factorial(userinput)\n",
    "\n",
    "\n",
    "\n",
    "\n",
    "\n",
    "\n"
   ]
  },
  {
   "cell_type": "code",
   "execution_count": 98,
   "metadata": {},
   "outputs": [
    {
     "name": "stdout",
     "output_type": "stream",
     "text": [
      "Enter string.....Asad Ali Khan\n",
      "Total Character with speaces... 13\n",
      "Total lower Characters.......... 8\n",
      "Total upper Characters.......... 3\n"
     ]
    }
   ],
   "source": [
    "# Assignment #5 Question - 2\n",
    "def upperAndlower(anystring):\n",
    "    number=0\n",
    "    uppercharacter=0\n",
    "    lowercharacter=0\n",
    "\n",
    "    for character in anystring:\n",
    "        number = number + 1\n",
    "        if character.isupper():\n",
    "            uppercharacter=uppercharacter+1\n",
    "        elif character.islower():\n",
    "            lowercharacter=lowercharacter+1\n",
    "            \n",
    "\n",
    "    actuallower=len(anystring)-lowercharacter\n",
    "    print(\"Total Character with speaces...\", len(anystring))\n",
    "    print(\"Total lower Characters..........\", lowercharacter)\n",
    "    print(\"Total upper Characters..........\", uppercharacter)\n",
    "\n",
    "string21=input(\"Enter string.....\")\n",
    "\n",
    "upperAndlower(string21)\n",
    "\n",
    "\n",
    "        "
   ]
  },
  {
   "cell_type": "code",
   "execution_count": 135,
   "metadata": {},
   "outputs": [
    {
     "name": "stdout",
     "output_type": "stream",
     "text": [
      "Even Number 4\n",
      "Even Number 6\n",
      "Even Number 8\n",
      "Even Number 8\n",
      "Even Number 10\n",
      "Even Number 12\n"
     ]
    }
   ],
   "source": [
    "# Assignment #5 Question - 3\n",
    "\n",
    "def evennumberlist(anylist):\n",
    "    lengthoflist=len(anylist)\n",
    "    counter=0\n",
    "    while lengthoflist > counter:\n",
    "        result=userlist[counter]%2\n",
    "        if result == 0:\n",
    "            print(\"Even Number\",anylist[counter])\n",
    "        counter=counter+1\n",
    "        \n",
    "userlist=[1,3,3,4,6,7,8,8,9,10,11,11,12,13]\n",
    "\n",
    "evennumberlist(userlist)"
   ]
  },
  {
   "cell_type": "code",
   "execution_count": 54,
   "metadata": {},
   "outputs": [
    {
     "name": "stdout",
     "output_type": "stream",
     "text": [
      "Enter a word------->nun\n",
      "Word ===nun=== is palindrom\n"
     ]
    }
   ],
   "source": [
    "# Assignment #5 Question - 4\n",
    "# examples of  palindrome : civic, madam, refer,noon,nun\n",
    "\n",
    "anystring2=input('Enter a word------->')\n",
    "num=1\n",
    "resultstring=''\n",
    "for palindrome in anystring2:\n",
    "    resultstring=resultstring+anystring2[-num]\n",
    "    num=num+1\n",
    "if resultstring.lower()==anystring2.lower():\n",
    "    print(\"Word ==={}=== is palindrom\".format(resultstring))\n",
    "else:\n",
    "    print(\"Word ==={}=== is not palindrome\".format(resultstring))\n"
   ]
  },
  {
   "cell_type": "markdown",
   "metadata": {},
   "source": []
  },
  {
   "cell_type": "code",
   "execution_count": 53,
   "metadata": {},
   "outputs": [
    {
     "name": "stdout",
     "output_type": "stream",
     "text": [
      "Enter Number....47\n",
      "47 is a prime number\n"
     ]
    }
   ],
   "source": [
    "# Assignment #5 Question - 5\n",
    "# prim numbers for checking 2, 3, 5, 7, 11, 13, 17, 19, 23, 29, 31, 37, 41, 43, 47, 53, 59, 61, 67, 71, 73, 79, 83, 89, 97,  etc.\n",
    "\n",
    "def Isprime(anynumber):\n",
    "    if anynumber > 1:\n",
    "        for i in range(2,anynumber):\n",
    "            if (anynumber % i) == 0:\n",
    "                print(anynumber,\" is not a prime number\")\n",
    "                break                \n",
    "        else:\n",
    "                print(anynumber,\"is a prime number\")\n",
    "    else:\n",
    "          print(anynumber,\"is not a prime number\")\n",
    "\n",
    "\n",
    "        \n",
    "userinput = int(input(\"Enter Number....\"))\n",
    "Isprime(userinput)"
   ]
  },
  {
   "cell_type": "code",
   "execution_count": 52,
   "metadata": {},
   "outputs": [
    {
     "name": "stdout",
     "output_type": "stream",
     "text": [
      "============================\n",
      "      Press x to Exit       \n",
      "============================\n",
      "Enter item...Eggs\n",
      "Enter item...Tomatos\n",
      "Enter item...Pencils\n",
      "Enter item...Books\n",
      "Enter item...USB\n",
      "Enter item...x\n",
      "\n",
      "============================\n",
      "      Items Purchased        \n",
      "============================\n",
      "1 - Eggs\n",
      "2 - Tomatos\n",
      "3 - Pencils\n",
      "4 - Books\n",
      "5 - USB\n"
     ]
    }
   ],
   "source": [
    "# Assignment #5 Question - 6\n",
    "\n",
    "def shoppinglist():\n",
    "\n",
    "    purchased_items =[]\n",
    "    \n",
    "    \n",
    "    print(\"============================\")\n",
    "    print(\"      Press x to Exit       \")\n",
    "    print(\"============================\")\n",
    "    \n",
    "    while True:\n",
    "        userinput=input(\"Enter item...\")\n",
    "        if userinput == 'x':\n",
    "          break\n",
    "        else:\n",
    "          purchased_items.append(userinput)\n",
    "      \n",
    "    print(\"\\n============================\")\n",
    "    print(\"      Items Purchased        \")\n",
    "    print(\"============================\")\n",
    "    \n",
    "    for itemsnumber in range(0,len(purchased_items)):\n",
    "        print(\"{} - {}\".format((itemsnumber+1),purchased_items[itemsnumber]))\n",
    "\n",
    "shoppinglist()\n"
   ]
  },
  {
   "cell_type": "code",
   "execution_count": null,
   "metadata": {},
   "outputs": [],
   "source": []
  }
 ],
 "metadata": {
  "kernelspec": {
   "display_name": "Python 3",
   "language": "python",
   "name": "python3"
  },
  "language_info": {
   "codemirror_mode": {
    "name": "ipython",
    "version": 3
   },
   "file_extension": ".py",
   "mimetype": "text/x-python",
   "name": "python",
   "nbconvert_exporter": "python",
   "pygments_lexer": "ipython3",
   "version": "3.7.4"
  }
 },
 "nbformat": 4,
 "nbformat_minor": 2
}
