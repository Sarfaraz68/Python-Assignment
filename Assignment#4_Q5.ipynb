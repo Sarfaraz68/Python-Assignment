{
 "cells": [
  {
   "cell_type": "code",
   "execution_count": 4,
   "metadata": {},
   "outputs": [
    {
     "name": "stdout",
     "output_type": "stream",
     "text": [
      "Guess a number between 0 and 10............6\n",
      "Your guess is lower!\n",
      "Try again\n",
      "Guess a number between 0 and 10............7\n",
      "Your guess is lower!\n",
      "Try again\n",
      "Guess a number between 0 and 10............8\n",
      "Your guess is lower!\n",
      "Try again\n",
      "Right answer is.... 9\n"
     ]
    }
   ],
   "source": [
    "import random\n",
    "value=random.randint(0,10)\n",
    "chance=0\n",
    "while chance<3:\n",
    "    chance += 1\n",
    "    userinput = int(input('Guess a number between 0 and 10............'))\n",
    "    if userinput==value:\n",
    "       print(\"=============================\")       \n",
    "       print(\"You got it\")\n",
    "       print(\"=============================\")\n",
    "       chance=3\n",
    "    elif userinput>value:\n",
    "        print('Your guess is higher!')\n",
    "        print('Try again')\n",
    "    elif userinput<value:\n",
    "        print('Your guess is lower!')\n",
    "        print('Try again')\n",
    "        \n",
    "print('Right answer is....',value)\n",
    "    "
   ]
  },
  {
   "cell_type": "code",
   "execution_count": null,
   "metadata": {},
   "outputs": [],
   "source": []
  },
  {
   "cell_type": "code",
   "execution_count": null,
   "metadata": {},
   "outputs": [],
   "source": []
  }
 ],
 "metadata": {
  "kernelspec": {
   "display_name": "Python 3",
   "language": "python",
   "name": "python3"
  },
  "language_info": {
   "codemirror_mode": {
    "name": "ipython",
    "version": 3
   },
   "file_extension": ".py",
   "mimetype": "text/x-python",
   "name": "python",
   "nbconvert_exporter": "python",
   "pygments_lexer": "ipython3",
   "version": "3.7.4"
  }
 },
 "nbformat": 4,
 "nbformat_minor": 2
}
