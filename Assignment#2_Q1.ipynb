{
 "cells": [
  {
   "cell_type": "code",
   "execution_count": 3,
   "metadata": {},
   "outputs": [
    {
     "name": "stdout",
     "output_type": "stream",
     "text": [
      "Enter Name.......lkl\n",
      "Enter marks for English...60\n",
      "Enter marks for Urdu...60\n",
      "Enter marks for Science...60\n",
      "Enter marks for Maths...60\n",
      "Total marks out of 400.... 240\n",
      "Percentage...... 60\n",
      "Fail\n"
     ]
    }
   ],
   "source": [
    "name_of_student = input(\"Enter Name.......\")\n",
    "English_1 = int(input(\"Enter marks for English...\"))\n",
    "Urdu_1 = int(input(\"Enter marks for Urdu...\"))\n",
    "Science_1 = int(input(\"Enter marks for Science...\"))\n",
    "Maths_1 = int(input(\"Enter marks for Maths...\"))\n",
    "Total = English_1+Urdu_1+Maths_1+Science_1\n",
    "Percentage = Total//4\n",
    "print(\"Total marks out of 400....\",Total)\n",
    "print(\"Percentage......\", Percentage)\n",
    "if Percentage>90:\n",
    "    print(\"Grade-A\")\n",
    "elif Percentage >80 and Percentage <=90:\n",
    "        print(\"Grade-B\")\n",
    "elif Percentage >70 and Percentage <=80:\n",
    "        print(\"Grade-C\")\n",
    "elif Percentage >60 and Percentage <=70:\n",
    "        print(\"Grade-D\")\n",
    "elif Percentage <=60:\n",
    "        print(\"Fail\")"
   ]
  },
  {
   "cell_type": "code",
   "execution_count": null,
   "metadata": {},
   "outputs": [],
   "source": []
  }
 ],
 "metadata": {
  "kernelspec": {
   "display_name": "Python 3",
   "language": "python",
   "name": "python3"
  },
  "language_info": {
   "codemirror_mode": {
    "name": "ipython",
    "version": 3
   },
   "file_extension": ".py",
   "mimetype": "text/x-python",
   "name": "python",
   "nbconvert_exporter": "python",
   "pygments_lexer": "ipython3",
   "version": "3.7.4"
  }
 },
 "nbformat": 4,
 "nbformat_minor": 2
}
