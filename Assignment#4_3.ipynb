{
 "cells": [
  {
   "cell_type": "code",
   "execution_count": null,
   "metadata": {},
   "outputs": [
    {
     "name": "stdout",
     "output_type": "stream",
     "text": [
      "Press x to Exit\n",
      "===============\n",
      "Enter age.......2\n",
      "Entry is Free\n",
      "Enter age.......3\n",
      "Ticket/person = $10\n",
      "Enter age.......13\n",
      "Ticket/person = $15\n",
      "Enter age.......4545\n",
      "Ticket/person = $15\n"
     ]
    }
   ],
   "source": [
    "ticket={1:\"Entry is Free\",2:\"Ticket/person = $10\",3:\"Ticket/person = $15\"}\n",
    "print('Press x to Exit')\n",
    "print('===============')\n",
    "\n",
    "i=1\n",
    "while i < 4:\n",
    "  age=(input('Enter age.......'))\n",
    "  if age=='x' or age=='':\n",
    "     break\n",
    "  elif int(age) < 3:\n",
    "    i=1\n",
    "    print(ticket[i])\n",
    "  elif int(age) >= 3 and int(age) <= 12:\n",
    "     i=2\n",
    "     print(ticket[i])\n",
    "  elif int(age) > 12:\n",
    "    i=3\n",
    "    print(ticket[i])\n"
   ]
  },
  {
   "cell_type": "code",
   "execution_count": null,
   "metadata": {},
   "outputs": [],
   "source": []
  }
 ],
 "metadata": {
  "kernelspec": {
   "display_name": "Python 3",
   "language": "python",
   "name": "python3"
  },
  "language_info": {
   "codemirror_mode": {
    "name": "ipython",
    "version": 3
   },
   "file_extension": ".py",
   "mimetype": "text/x-python",
   "name": "python",
   "nbconvert_exporter": "python",
   "pygments_lexer": "ipython3",
   "version": "3.7.4"
  }
 },
 "nbformat": 4,
 "nbformat_minor": 2
}
