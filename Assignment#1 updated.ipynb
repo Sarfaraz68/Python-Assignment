{
 "cells": [
  {
   "cell_type": "code",
   "execution_count": 12,
   "metadata": {},
   "outputs": [
    {
     "name": "stdout",
     "output_type": "stream",
     "text": [
      "===================================================Q1\n",
      "Twinkle, twinkle, little star,\n",
      "How I wonder what you are!\n",
      "Up above the world so high,\n",
      "Like a diamond in the sky.\n",
      "Twinkle, twinkle, little star,\n",
      "How I wonder what you are\n",
      "===================================================Q2\n",
      "Python Version is...... 3.7.4 (default, Aug  9 2019, 18:34:13) [MSC v.1915 64 bit (AMD64)]\n",
      "===================================================Q3\n",
      "2019-11-23 20:50:41.178495\n",
      "===================================================Q4\n",
      "Enter the radius of the circle :4\n",
      "Area of Circle is...... 50.24\n",
      "===================================================Q5\n",
      "First Name.........Ali\n",
      "Last Name.........Asad\n",
      "Asad Ali\n",
      "===================================================Q6\n",
      "Enter First Number........4\n",
      "Enter First Number........3232\n",
      "Sum of two numbers...... 3236\n"
     ]
    }
   ],
   "source": [
    "import sys\n",
    "import datetime\n",
    "import math\n",
    "print(\"===================================================Q1\")\n",
    "print('Twinkle, twinkle, little star,')\n",
    "print('How I wonder what you are!')\n",
    "print('Up above the world so high,')\n",
    "print('Like a diamond in the sky.')\n",
    "print('Twinkle, twinkle, little star,')\n",
    "print('How I wonder what you are')\n",
    "print(\"===================================================Q2\")\n",
    "print(\"Python Version is......\",sys.version)\n",
    "print(\"===================================================Q3\")\n",
    "currentdatetime=datetime.datetime.now()\n",
    "print(currentdatetime)\n",
    "print(\"===================================================Q4\")\n",
    "r = float(input('Enter the radius of the circle :'))\n",
    "Pi=3.14\n",
    "area = Pi * r * r\n",
    "print('Area of Circle is......',area)\n",
    "print(\"===================================================Q5\")\n",
    "firstname = input('First Name.........')\n",
    "lastname = input('Last Name.........')\n",
    "print(lastname+' '+firstname)\n",
    "print(\"===================================================Q6\")\n",
    "firstnumber = int(input('Enter First Number........'))\n",
    "secondnumber = int(input('Enter First Number........'))\n",
    "result = firstnumber+secondnumber\n",
    "print('Sum of two numbers......',result)\n",
    "\n",
    "\n"
   ]
  },
  {
   "cell_type": "code",
   "execution_count": null,
   "metadata": {},
   "outputs": [],
   "source": []
  }
 ],
 "metadata": {
  "kernelspec": {
   "display_name": "Python 3",
   "language": "python",
   "name": "python3"
  },
  "language_info": {
   "codemirror_mode": {
    "name": "ipython",
    "version": 3
   },
   "file_extension": ".py",
   "mimetype": "text/x-python",
   "name": "python",
   "nbconvert_exporter": "python",
   "pygments_lexer": "ipython3",
   "version": "3.7.4"
  }
 },
 "nbformat": 4,
 "nbformat_minor": 2
}
