{
 "cells": [
  {
   "cell_type": "code",
   "execution_count": null,
   "metadata": {},
   "outputs": [],
   "source": [
    "#===================================================Q2\n",
    "a = [1,'Asad',2, 'Ali',4,5,'Qasim']\n",
    "x=0\n",
    "count_numeric = 0\n",
    "for i in a:\n",
    "  c=str(a[x])\n",
    "  b=str.isdigit(c)\n",
    "  if b == True:\n",
    "     count_numeric = count_numeric + 1\n",
    "     print(a[x],'is a numeric value')\n",
    "  x=x+1\n",
    "print('There are ',count_numeric,'numeric values in the list')\n"
   ]
  }
 ],
 "metadata": {
  "kernelspec": {
   "display_name": "Python 3",
   "language": "python",
   "name": "python3"
  },
  "language_info": {
   "codemirror_mode": {
    "name": "ipython",
    "version": 3
   },
   "file_extension": ".py",
   "mimetype": "text/x-python",
   "name": "python",
   "nbconvert_exporter": "python",
   "pygments_lexer": "ipython3",
   "version": "3.7.4"
  }
 },
 "nbformat": 4,
 "nbformat_minor": 2
}
