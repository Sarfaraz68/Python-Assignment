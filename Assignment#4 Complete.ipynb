{
 "cells": [
  {
   "cell_type": "code",
   "execution_count": 2,
   "metadata": {},
   "outputs": [
    {
     "name": "stdout",
     "output_type": "stream",
     "text": [
      "First Name..... Asif\n",
      "Last Name...... Iqbal\n",
      "Age............ 35\n",
      "Resident of ... Karachi\n",
      "Qualificatin key added***********************\n",
      "Qualification...... B.A\n",
      "Qualificatin key updated***********************\n",
      "High Academic Level...... M.A.\n",
      "\n",
      "\n",
      "\n",
      "Qualificatin key deleted**********************\n",
      "Person information after erasing qualification key\n",
      "First Name..... Asif\n",
      "Last Name...... Iqbal\n",
      "Age............ 35\n",
      "Resident of ... Karachi\n"
     ]
    }
   ],
   "source": [
    "#============================================================================================= Q1\n",
    "Person={\"First_Name\":\"Asif\",\"Last_Name\":\"Iqbal\",\"Age\":35,\"City\":\"Karachi\"}\n",
    "\n",
    "print(\"First Name.....\",Person[\"First_Name\"])\n",
    "print(\"Last Name......\",Person[\"Last_Name\"])\n",
    "print(\"Age............\",Person[\"Age\"])\n",
    "print(\"Resident of ...\",Person[\"City\"])\n",
    "\n",
    "print(\"Qualificatin key added***********************\")\n",
    "Person[\"Qualification\"]=\"B.A\"\n",
    "\n",
    "print(\"Qualification......\",Person[\"Qualification\"])\n",
    "print(\"Qualificatin key updated***********************\")\n",
    "Person[\"Qualification\"]=\"M.A.\"\n",
    "print(\"High Academic Level......\",Person[\"Qualification\"])\n",
    "\n",
    "del Person[\"Qualification\"]\n",
    "print(\"\")\n",
    "print(\"\")\n",
    "print(\"\")\n",
    "print(\"Qualificatin key deleted**********************\")\n",
    "print(\"Person information after erasing qualification key\")\n",
    "print(\"First Name.....\",Person[\"First_Name\"])\n",
    "print(\"Last Name......\",Person[\"Last_Name\"])\n",
    "print(\"Age............\",Person[\"Age\"])\n",
    "print(\"Resident of ...\",Person[\"City\"])"
   ]
  },
  {
   "cell_type": "code",
   "execution_count": 3,
   "metadata": {},
   "outputs": [
    {
     "name": "stdout",
     "output_type": "stream",
     "text": [
      "Name of the City ......... Karachi\n",
      "Karachi ....is in......... Pakistan\n",
      "Its Population is......... 20000000\n",
      "Fact about  Karachi ...... City of Lights\n",
      "=========================================================\n",
      "Name of the City ......... Madina\n",
      "Madina ....is in......... Saudi Arabia\n",
      "Its Population is......... 1459000\n",
      "Fact about  Madina ...... Holy City\n",
      "=========================================================\n",
      "Name of the City ......... Agra\n",
      "Agra ....is in......... India\n",
      "Its Population is......... 1585704\n",
      "Fact about  Agra ...... Taj Mahal\n",
      "=========================================================\n"
     ]
    }
   ],
   "source": [
    "#======================================================================================= Q2\n",
    "Cities={'Karachi':{'Country':'Pakistan','Population':20000000,'Fact':'City of Lights'},'Madina':{'Country':'Saudi Arabia','Population':1459000,'Fact':'Holy City'},'Agra':{'Country':'India','Population':1585704,'Fact':'Taj Mahal'}}\n",
    "for i in Cities:\n",
    "  print('Name of the City .........',i)\n",
    "  print(i,'....is in.........',Cities[i]['Country'])\n",
    "  print('Its Population is.........',Cities[i]['Population'])\n",
    "  print('Fact about ',i,'......',Cities[i]['Fact'])\n",
    "  print('=========================================================')"
   ]
  },
  {
   "cell_type": "code",
   "execution_count": 4,
   "metadata": {},
   "outputs": [
    {
     "name": "stdout",
     "output_type": "stream",
     "text": [
      "Press x to Exit\n",
      "===============\n",
      "Enter age.......7\n",
      "Ticket/person = $10\n",
      "Enter age.......2\n",
      "Entry is Free\n",
      "Enter age.......45\n",
      "Ticket/person = $15\n",
      "Enter age.......\n"
     ]
    }
   ],
   "source": [
    "#=======================================================================================Q3\n",
    "ticket={1:\"Entry is Free\",2:\"Ticket/person = $10\",3:\"Ticket/person = $15\"}\n",
    "print('Press x to Exit')\n",
    "print('===============')\n",
    "\n",
    "i=1\n",
    "while i < 4:\n",
    "  age=(input('Enter age.......'))\n",
    "  if age=='x' or age=='':\n",
    "     break\n",
    "  elif int(age) < 3:\n",
    "    i=1\n",
    "    print(ticket[i])\n",
    "  elif int(age) >= 3 and int(age) <= 12:\n",
    "     i=2\n",
    "     print(ticket[i])\n",
    "  elif int(age) > 12:\n",
    "    i=3\n",
    "    print(ticket[i])"
   ]
  },
  {
   "cell_type": "code",
   "execution_count": 5,
   "metadata": {},
   "outputs": [
    {
     "name": "stdout",
     "output_type": "stream",
     "text": [
      "Enter name of the book.......Holy Quran\n",
      "One of my favorit books is...... Holy Quran\n"
     ]
    }
   ],
   "source": [
    "#=======================================================================================Q4\n",
    "def favorite_book(title):\n",
    "    print('One of my favorit books is......',title)\n",
    "\n",
    "book = input('Enter name of the book.......')\n",
    "\n",
    "favorite_book(book)"
   ]
  },
  {
   "cell_type": "code",
   "execution_count": 7,
   "metadata": {},
   "outputs": [
    {
     "name": "stdout",
     "output_type": "stream",
     "text": [
      "Guess a number between 0 and 10............7\n",
      "Your guess is higher!\n",
      "Try again\n",
      "Guess a number between 0 and 10............5\n",
      "Your guess is higher!\n",
      "Try again\n",
      "Guess a number between 0 and 10............6\n",
      "Your guess is higher!\n",
      "Try again\n",
      "Right answer is.... 3\n"
     ]
    }
   ],
   "source": [
    "#=======================================================================================Q5\n",
    "import random\n",
    "value=random.randint(0,10)\n",
    "chance=0\n",
    "while chance<3:\n",
    "    chance += 1\n",
    "    userinput = int(input('Guess a number between 0 and 10............'))\n",
    "    if userinput==value:\n",
    "       print(\"=============================\")       \n",
    "       print(\"You got it\")\n",
    "       print(\"=============================\")\n",
    "       chance=3\n",
    "    elif userinput>value:\n",
    "        print('Your guess is higher!')\n",
    "        print('Try again')\n",
    "    elif userinput<value:\n",
    "        print('Your guess is lower!')\n",
    "        print('Try again')\n",
    "        \n",
    "print('Right answer is....',value)"
   ]
  },
  {
   "cell_type": "code",
   "execution_count": null,
   "metadata": {},
   "outputs": [],
   "source": []
  }
 ],
 "metadata": {
  "kernelspec": {
   "display_name": "Python 3",
   "language": "python",
   "name": "python3"
  },
  "language_info": {
   "codemirror_mode": {
    "name": "ipython",
    "version": 3
   },
   "file_extension": ".py",
   "mimetype": "text/x-python",
   "name": "python",
   "nbconvert_exporter": "python",
   "pygments_lexer": "ipython3",
   "version": "3.7.4"
  }
 },
 "nbformat": 4,
 "nbformat_minor": 2
}
