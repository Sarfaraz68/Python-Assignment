{
 "cells": [
  {
   "cell_type": "code",
   "execution_count": null,
   "metadata": {},
   "outputs": [],
   "source": [
    "family = {\"Husband\": \"Tariq\", 'Wife': 'Najma'}\n",
    "print(\"================In Complete family====================\")\n",
    "print(family)\n",
    "family[\"Son\"]=\"Kashif\"\n",
    "family[\"Daughter\"]=\"Kainat\"\n",
    "print(\"==================Complete family====================\")\n",
    "print(family)\n"
   ]
  }
 ],
 "metadata": {
  "kernelspec": {
   "display_name": "Python 3",
   "language": "python",
   "name": "python3"
  },
  "language_info": {
   "codemirror_mode": {
    "name": "ipython",
    "version": 3
   },
   "file_extension": ".py",
   "mimetype": "text/x-python",
   "name": "python",
   "nbconvert_exporter": "python",
   "pygments_lexer": "ipython3",
   "version": "3.7.4"
  }
 },
 "nbformat": 4,
 "nbformat_minor": 2
}
