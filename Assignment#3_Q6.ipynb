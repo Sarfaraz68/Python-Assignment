{
 "cells": [
  {
   "cell_type": "code",
   "execution_count": 2,
   "metadata": {},
   "outputs": [
    {
     "name": "stdout",
     "output_type": "stream",
     "text": [
      "Enter the key to check in the dictionarySalary\n",
      "Given key...... Salary ....is already exists\n"
     ]
    }
   ],
   "source": [
    "employee1 = {'Name':'Asad','Age':'45','Designation':'CEO','Salary':50000}\n",
    "givenkey=input('Enter the key to check in the dictionary')\n",
    "if givenkey not in employee1.keys():\n",
    " print('Given key......',givenkey,'........does not exist')\n",
    "else:\n",
    "  print('Given key......',givenkey,'....is already exists')\n"
   ]
  },
  {
   "cell_type": "code",
   "execution_count": null,
   "metadata": {},
   "outputs": [],
   "source": []
  }
 ],
 "metadata": {
  "kernelspec": {
   "display_name": "Python 3",
   "language": "python",
   "name": "python3"
  },
  "language_info": {
   "codemirror_mode": {
    "name": "ipython",
    "version": 3
   },
   "file_extension": ".py",
   "mimetype": "text/x-python",
   "name": "python",
   "nbconvert_exporter": "python",
   "pygments_lexer": "ipython3",
   "version": "3.7.4"
  }
 },
 "nbformat": 4,
 "nbformat_minor": 2
}
