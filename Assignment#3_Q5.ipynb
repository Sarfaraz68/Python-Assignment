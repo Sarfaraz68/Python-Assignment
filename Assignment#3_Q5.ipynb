{
 "cells": [
  {
   "cell_type": "code",
   "execution_count": 1,
   "metadata": {},
   "outputs": [
    {
     "name": "stdout",
     "output_type": "stream",
     "text": [
      "Duplicate Elements =  ['Rashid', 4, 3, 'Zahid']\n"
     ]
    }
   ],
   "source": [
    "# This code is valid for the duplicate values only. \n",
    "#If the values exist more than twice code will not give an error \n",
    "#but duplicate list will contain repeated duplicate elements depending\n",
    "#on the number of occurrences of the elements.\n",
    "\n",
    "a=['Rashid',4,3,2,'Zahid',5,6,7,8,'Moiz',9,4,3,1,'Rashid','Zahid']\n",
    "list_of_duplicate = []\n",
    "x=0\n",
    "length_of_list = len(a)\n",
    "for i in range(len(a)):\n",
    "  x=i+1\n",
    "\n",
    "  while x < length_of_list:\n",
    "      if a[i] == a[(x)]:\n",
    "         list_of_duplicate.append(a[x])\n",
    "      x=x+1\n",
    "\n",
    "\n",
    "print('Duplicate Elements = ',list_of_duplicate)\n"
   ]
  },
  {
   "cell_type": "code",
   "execution_count": null,
   "metadata": {},
   "outputs": [],
   "source": []
  }
 ],
 "metadata": {
  "kernelspec": {
   "display_name": "Python 3",
   "language": "python",
   "name": "python3"
  },
  "language_info": {
   "codemirror_mode": {
    "name": "ipython",
    "version": 3
   },
   "file_extension": ".py",
   "mimetype": "text/x-python",
   "name": "python",
   "nbconvert_exporter": "python",
   "pygments_lexer": "ipython3",
   "version": "3.7.4"
  }
 },
 "nbformat": 4,
 "nbformat_minor": 2
}
