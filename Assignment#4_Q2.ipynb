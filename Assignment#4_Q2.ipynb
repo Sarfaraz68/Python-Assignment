{
 "cells": [
  {
   "cell_type": "code",
   "execution_count": 96,
   "metadata": {},
   "outputs": [
    {
     "name": "stdout",
     "output_type": "stream",
     "text": [
      "Name of the City ......... Karachi\n",
      "Karachi ....is in......... Pakistan\n",
      "Its Population is......... 20000000\n",
      "Fact about  Karachi ...... City of Lights\n",
      "=========================================================\n",
      "Name of the City ......... Madina\n",
      "Madina ....is in......... Saudi Arabia\n",
      "Its Population is......... 1459000\n",
      "Fact about  Madina ...... Holy City\n",
      "=========================================================\n",
      "Name of the City ......... Agra\n",
      "Agra ....is in......... India\n",
      "Its Population is......... 1585704\n",
      "Fact about  Agra ...... Taj Mahal\n",
      "=========================================================\n"
     ]
    }
   ],
   "source": [
    "Cities={'Karachi':{'Country':'Pakistan','Population':20000000,'Fact':'City of Lights'},'Madina':{'Country':'Saudi Arabia','Population':1459000,'Fact':'Holy City'},'Agra':{'Country':'India','Population':1585704,'Fact':'Taj Mahal'}}\n",
    "for i in Cities:\n",
    "  print('Name of the City .........',i)\n",
    "  print(i,'....is in.........',Cities[i]['Country'])\n",
    "  print('Its Population is.........',Cities[i]['Population'])\n",
    "  print('Fact about ',i,'......',Cities[i]['Fact'])\n",
    "  print('=========================================================')"
   ]
  },
  {
   "cell_type": "code",
   "execution_count": null,
   "metadata": {},
   "outputs": [],
   "source": []
  },
  {
   "cell_type": "code",
   "execution_count": null,
   "metadata": {},
   "outputs": [],
   "source": []
  },
  {
   "cell_type": "code",
   "execution_count": null,
   "metadata": {},
   "outputs": [],
   "source": []
  }
 ],
 "metadata": {
  "kernelspec": {
   "display_name": "Python 3",
   "language": "python",
   "name": "python3"
  },
  "language_info": {
   "codemirror_mode": {
    "name": "ipython",
    "version": 3
   },
   "file_extension": ".py",
   "mimetype": "text/x-python",
   "name": "python",
   "nbconvert_exporter": "python",
   "pygments_lexer": "ipython3",
   "version": "3.7.4"
  }
 },
 "nbformat": 4,
 "nbformat_minor": 2
}
